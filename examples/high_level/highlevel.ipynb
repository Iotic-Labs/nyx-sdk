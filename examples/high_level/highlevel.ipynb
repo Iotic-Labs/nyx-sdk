{
 "cells": [
  {
   "cell_type": "markdown",
   "metadata": {
    "id": "72Eb8bRMQc7v"
   },
   "source": [
    "# Iotics NYX high-level API example\n",
    "\n",
    "In this example, NYX-subscribed data is used by a [langchain](https://python.langchain.com/v0.2/docs/introduction/) RAG agent to help answer a user's query.\n",
    "\n",
    "📔 Other higher-level examples can be found [here](https://github.com/Iotic-Labs/nyx-sdk/blob/main/examples/high_level). 📔"
   ]
  },
  {
   "cell_type": "markdown",
   "metadata": {
    "id": "Ob0VIWCHSJQu"
   },
   "source": [
    "## Setup"
   ]
  },
  {
   "cell_type": "code",
   "execution_count": null,
   "metadata": {
    "id": "k0w9MRKo16Ta"
   },
   "outputs": [],
   "source": [
    "# Enable auto-reloading (so any updates to installed modules are reflected in subsequent code)\n",
    "%load_ext autoreload\n",
    "%autoreload 2"
   ]
  },
  {
   "cell_type": "markdown",
   "metadata": {
    "id": "J0AIdWl4xez5"
   },
   "source": [
    "### Prerequisites"
   ]
  },
  {
   "cell_type": "markdown",
   "metadata": {
    "id": "IACaFGOA1ziU"
   },
   "source": [
    "Install the Iotics NYX SDK client (with [OpenAI](https://openai.com/) extension). **Note**: You can can also install the `[langchain-cohere]` extra to use Cohere instead."
   ]
  },
  {
   "cell_type": "code",
   "execution_count": null,
   "metadata": {
    "collapsed": true,
    "id": "-B9I5nJi088w",
    "jupyter": {
     "outputs_hidden": true
    },
    "scrolled": true
   },
   "outputs": [],
   "source": [
    "# Uninstall any previous version first to ensure up-to-date client. (pip -U would instead update ALL packages).\n",
    "# Note: keep the argument quoted for zsh support.\n",
    "!pip uninstall -y nyx-client nyx-extras\n",
    "!pip install nyx_client 'nyx_extras[langchain-openai]'"
   ]
  },
  {
   "cell_type": "markdown",
   "metadata": {
    "id": "Ckehcs712PEo"
   },
   "source": [
    "### Config"
   ]
  },
  {
   "cell_type": "markdown",
   "metadata": {
    "id": "8h4_mI2R2AgH"
   },
   "source": [
    "Generate configuration .env file via NYX CLI"
   ]
  },
  {
   "cell_type": "code",
   "execution_count": 20,
   "metadata": {
    "colab": {
     "base_uri": "https://localhost:8080/"
    },
    "id": "zZuTNU6d0YRn",
    "outputId": "3f894aec-430b-41ca-aff8-2a714e46bf27"
   },
   "outputs": [
    {
     "name": "stdout",
     "output_type": "stream",
     "text": [
      "Do you want to interactively create '.env'? (y/N):  y\n",
      "\n",
      "To use Nyx you must agree to our Terms of Service when sharing content\n",
      "\n",
      "\n",
      "I understand that the data I am uploading will be visible in the Nyx Playground,\n",
      "including to users outside my organisation.\n",
      "I confirm that I have the right to share this data.\n",
      "I confirm that this data does not contain any Personally Identifiable Information\n",
      "or otherwise sensitive information, and that it does not violate any laws.\n",
      "I confirm I have read the Nyx Terms of Service and I am content to proceed.\n",
      "https://www.get-nyx.io/terms\n",
      "\n",
      "Agree (y/N): y\n",
      "Enter Nyx URL: https://nyx-playground.iotics.space\n",
      "Enter Nyx email: some.user@mydomain.com\n",
      "Enter Nyx password: ··········\n",
      "Our high level client (NyxLangChain) expects a configured language model, however it can be configured with other language model wrappers provided by langchain providing they support 'tool calling'. Don't forget to set the appropriate API KEY as an environment variable for the language model you wish to use.\n",
      "Writing contents to .env\n"
     ]
    }
   ],
   "source": [
    "# NOTE: From a CLI you can also just run: nyx-client init\n",
    "# (but Jupyter Labs/Notebook don't support stdin via CLI - hence call via Python).\n",
    "from nyx_client.cli.init_env import init_env\n",
    "\n",
    "init_env()"
   ]
  },
  {
   "cell_type": "markdown",
   "metadata": {
    "id": "e50hAsOe2Vz-"
   },
   "source": [
    "## Run"
   ]
  },
  {
   "cell_type": "markdown",
   "metadata": {
    "id": "iMhpp9vLM3Ay"
   },
   "source": [
    "Load the necessary modules."
   ]
  },
  {
   "cell_type": "code",
   "execution_count": 21,
   "metadata": {
    "id": "EDB5GDKcM6qA"
   },
   "outputs": [],
   "source": [
    "from nyx_client.configuration import NyxConfigExtended, ConfigType, BaseNyxConfig\n",
    "from nyx_extras.langchain import NyxLangChain"
   ]
  },
  {
   "cell_type": "markdown",
   "metadata": {
    "id": "4L9D9sjo1dDS"
   },
   "source": [
    "Set up the langchain client, backed by [OpenAI](https://openai.com/). (You can also use e.g. `ConfigType.COHERE` for an [Cohere](https://cohere.com/)-backed agent.)"
   ]
  },
  {
   "cell_type": "code",
   "execution_count": 22,
   "metadata": {
    "colab": {
     "base_uri": "https://localhost:8080/"
    },
    "id": "lsy6t3qXwKlE",
    "outputId": "e82ca5aa-676b-4b03-bda4-7653e294d3a5"
   },
   "outputs": [
    {
     "name": "stdout",
     "output_type": "stream",
     "text": [
      "Enter your backend-specific API key: ··········\n"
     ]
    }
   ],
   "source": [
    "# Set LLM provider API key (for either Cohere or OpenAI)\n",
    "from getpass import getpass\n",
    "\n",
    "llm_api_key = getpass(\"Enter your backend-specific API key: \")"
   ]
  },
  {
   "cell_type": "code",
   "execution_count": 23,
   "metadata": {
    "id": "9ESLxfVqPjHf"
   },
   "outputs": [],
   "source": [
    "config = NyxConfigExtended(api_key=llm_api_key, provider=ConfigType.OPENAI, base_config=BaseNyxConfig.from_env())\n",
    "client = NyxLangChain(config=config)"
   ]
  },
  {
   "cell_type": "markdown",
   "metadata": {
    "id": "VuzVBy7WOdns"
   },
   "source": [
    "Verify that our configuration works by listing subscribed-to data."
   ]
  },
  {
   "cell_type": "code",
   "execution_count": 24,
   "metadata": {
    "colab": {
     "base_uri": "https://localhost:8080/"
    },
    "id": "vK5WK5b6OgnI",
    "outputId": "07998921-edb6-4505-c33e-bebed6b9d655"
   },
   "outputs": [
    {
     "name": "stdout",
     "output_type": "stream",
     "text": [
      "[nxy_guide] Basic Nyx Guide\n",
      "[Synthetic_House_Prices_with_Zip_Codes__Bedrooms__and_Bathrooms.csv] Synthetic_House_Prices_with_Zip_Codes__Bedrooms__and_Bathrooms\n"
     ]
    }
   ],
   "source": [
    "for data in client.my_subscriptions():\n",
    "    print(f\"[{data.name}] {data.title}\")"
   ]
  },
  {
   "cell_type": "markdown",
   "metadata": {
    "id": "O94iTyxwOCrg"
   },
   "source": [
    "Now we can start to issue queries, enriching them with data from Nyx.\n",
    "\n",
    "🧠 **Any subscribed-to data will be considered to help answer a query** 🧠"
   ]
  },
  {
   "cell_type": "code",
   "execution_count": 25,
   "metadata": {
    "colab": {
     "base_uri": "https://localhost:8080/"
    },
    "id": "fl3tnBY3OCQH",
    "outputId": "d6ff401f-14dd-4ac0-c3a6-867fac458bfe"
   },
   "outputs": [
    {
     "name": "stdout",
     "output_type": "stream",
     "text": [
      "I don't know.\n"
     ]
    }
   ],
   "source": [
    "print(client.query(\"What is the land speed record for a car?\"))"
   ]
  }
 ],
 "metadata": {
  "colab": {
   "provenance": []
  },
  "kernelspec": {
   "display_name": "Python 3 (ipykernel)",
   "language": "python",
   "name": "python3"
  },
  "language_info": {
   "codemirror_mode": {
    "name": "ipython",
    "version": 3
   },
   "file_extension": ".py",
   "mimetype": "text/x-python",
   "name": "python",
   "nbconvert_exporter": "python",
   "pygments_lexer": "ipython3",
   "version": "3.10.15"
  }
 },
 "nbformat": 4,
 "nbformat_minor": 4
}
