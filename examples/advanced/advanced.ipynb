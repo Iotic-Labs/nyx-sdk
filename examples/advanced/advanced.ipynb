{
 "cells": [
  {
   "cell_type": "markdown",
   "metadata": {
    "id": "72Eb8bRMQc7v"
   },
   "source": [
    "# Iotics NYX advanced RAG API example\n",
    "\n",
    "In this example, NYX-subscribed data is used by a [langchain](https://python.langchain.com/v0.2/docs/introduction/) RAG agent to help answer a user's query.\n",
    "Note that his example leads to almost equivalent behaviour as the [high level one](https://github.com/Iotic-Labs/nyx-sdk/blob/main/examples/high_level/highlevel.ipynb) one but here we illustrate how to put the building blocks together yourself.\n",
    "\n",
    "📔 Other examples can be found [here](https://github.com/Iotic-Labs/nyx-sdk/blob/main/examples). 📔"
   ]
  },
  {
   "cell_type": "markdown",
   "metadata": {
    "id": "Ob0VIWCHSJQu"
   },
   "source": [
    "## Setup"
   ]
  },
  {
   "cell_type": "code",
   "execution_count": 1,
   "metadata": {
    "colab": {
     "base_uri": "https://localhost:8080/"
    },
    "id": "k0w9MRKo16Ta",
    "outputId": "6e92e47e-930c-4116-9f53-e3d9e02fb173"
   },
   "outputs": [],
   "source": [
    "# Enable auto-reloading (so any updates to installed modules are reflected in subsequent code)\n",
    "%load_ext autoreload\n",
    "%autoreload 2"
   ]
  },
  {
   "cell_type": "markdown",
   "metadata": {
    "id": "J0AIdWl4xez5"
   },
   "source": [
    "### Prerequisites"
   ]
  },
  {
   "cell_type": "markdown",
   "metadata": {
    "id": "IACaFGOA1ziU"
   },
   "source": [
    "Install the Iotics NYX SDK client (with [OpenAI](https://openai.com/) extension). **Note**: You can can also install the `[langchain-cohere]` extra to use [Cohere](https://cohere.com/) instead."
   ]
  },
  {
   "cell_type": "code",
   "execution_count": null,
   "metadata": {
    "collapsed": true,
    "id": "-B9I5nJi088w",
    "jupyter": {
     "outputs_hidden": true
    },
    "scrolled": true
   },
   "outputs": [],
   "source": [
    "# Uninstall any previous version first to ensure up-to-date client. (pip -U would instead update ALL packages).\n",
    "# Note: keep the argument quoted for zsh support.\n",
    "!pip uninstall -y nyx-client nyx-extras\n",
    "!pip install nyx_client 'nyx_extras[langchain-openai]'"
   ]
  },
  {
   "cell_type": "markdown",
   "metadata": {
    "id": "Ckehcs712PEo"
   },
   "source": [
    "### Config"
   ]
  },
  {
   "cell_type": "markdown",
   "metadata": {
    "id": "8h4_mI2R2AgH"
   },
   "source": [
    "Generate configuration .env file via NYX CLI"
   ]
  },
  {
   "cell_type": "code",
   "execution_count": 3,
   "metadata": {
    "colab": {
     "base_uri": "https://localhost:8080/"
    },
    "id": "zZuTNU6d0YRn",
    "outputId": "d5c856f2-c80b-4164-af0c-57cd4a95abaf"
   },
   "outputs": [
    {
     "name": "stdout",
     "output_type": "stream",
     "text": [
      "Do you want to interactively create '.env'? (y/N):  y\n",
      "\n",
      "To use Nyx you must agree to our Terms of Service when sharing content\n",
      "\n",
      "\n",
      "I understand that the data I am uploading will be visible in the Nyx Playground,\n",
      "including to users outside my organisation.\n",
      "I confirm that I have the right to share this data.\n",
      "I confirm that this data does not contain any Personally Identifiable Information\n",
      "or otherwise sensitive information, and that it does not violate any laws.\n",
      "I confirm I have read the Nyx Terms of Service and I am content to proceed.\n",
      "https://www.get-nyx.io/terms\n",
      "\n",
      "Agree (y/N): y\n",
      "Enter Nyx URL: https://nyx-playground.iotics.space\n",
      "Enter Nyx email: some.user@mydomain.com\n",
      "Enter Nyx password: ··········\n",
      "Our high level client (NyxLangChain) expects a configured language model, however it can be configured with other language model wrappers provided by langchain providing they support 'tool calling'. Don't forget to set the appropriate API KEY as an environment variable for the language model you wish to use.\n",
      "Writing contents to .env\n"
     ]
    }
   ],
   "source": [
    "# NOTE: From a CLI you can also just run: nyx-client init\n",
    "# (but Jupyter Labs/Notebook don't support stdin via CLI - hence call via Python).\n",
    "from nyx_client.cli.init_env import init_env\n",
    "\n",
    "init_env()"
   ]
  },
  {
   "cell_type": "code",
   "execution_count": 4,
   "metadata": {
    "colab": {
     "base_uri": "https://localhost:8080/"
    },
    "id": "lsy6t3qXwKlE",
    "outputId": "010062d1-04db-4d12-8a0d-331f6f3dbdda"
   },
   "outputs": [
    {
     "name": "stdout",
     "output_type": "stream",
     "text": [
      "Enter your backend-specific API key:  ········\n"
     ]
    }
   ],
   "source": [
    "# Set LLM provider API key (for either Cohere or OpenAI)\n",
    "from getpass import getpass\n",
    "\n",
    "llm_api_key = getpass(\"Enter your backend-specific API key: \")"
   ]
  },
  {
   "cell_type": "markdown",
   "metadata": {
    "id": "e50hAsOe2Vz-"
   },
   "source": [
    "## Run"
   ]
  },
  {
   "cell_type": "markdown",
   "metadata": {
    "id": "VOr4Y5vPvCRd"
   },
   "source": [
    "### Initialize"
   ]
  },
  {
   "cell_type": "markdown",
   "metadata": {
    "id": "iMhpp9vLM3Ay"
   },
   "source": [
    "Load the necessary modules."
   ]
  },
  {
   "cell_type": "code",
   "execution_count": 5,
   "metadata": {
    "id": "EDB5GDKcM6qA"
   },
   "outputs": [],
   "source": [
    "from langchain_community.agent_toolkits import create_sql_agent\n",
    "from langchain_community.utilities import SQLDatabase\n",
    "from langchain_openai import ChatOpenAI\n",
    "\n",
    "from nyx_client import NyxClient, BaseNyxConfig\n",
    "from nyx_extras.utils import Parser, Utils"
   ]
  },
  {
   "cell_type": "markdown",
   "metadata": {
    "id": "v4Y-5_hAvCRd"
   },
   "source": [
    "### Steps"
   ]
  },
  {
   "cell_type": "markdown",
   "metadata": {
    "id": "sSTvzWgLyoGY"
   },
   "source": [
    "Set up a generic nyx client"
   ]
  },
  {
   "cell_type": "code",
   "execution_count": 6,
   "metadata": {
    "id": "f1qq2uSOyqLW"
   },
   "outputs": [],
   "source": [
    "config = BaseNyxConfig.from_env()\n",
    "client = NyxClient(config=config)"
   ]
  },
  {
   "cell_type": "markdown",
   "metadata": {
    "id": "zI6UK390vCRd"
   },
   "source": [
    "Get all subscribed-to data from nyx and load them into an sq-lite DB (in memory).\n",
    "\n",
    "📔 Only data in certain formats will be considered (such as CSV). See logging output as to whether some data have been excluded. 📔"
   ]
  },
  {
   "cell_type": "code",
   "execution_count": 8,
   "metadata": {
    "colab": {
     "base_uri": "https://localhost:8080/"
    },
    "id": "672m0w_IvCRd",
    "outputId": "ed28bd46-5364-45bf-cb29-ba26d792d1b8"
   },
   "outputs": [
    {
     "name": "stdout",
     "output_type": "stream",
     "text": [
      "2 data elements available to ingest\n"
     ]
    }
   ],
   "source": [
    "# 1. Get all subscribed-to data from Nyx\n",
    "data = client.my_subscriptions()\n",
    "print(f\"{len(data)} data elements available to ingest\")\n",
    "# 2. Load said data into an SQLite in-memory DB (via SQLAlchemy)\n",
    "engine = Parser.data_as_db(data)"
   ]
  },
  {
   "cell_type": "markdown",
   "metadata": {
    "id": "cnq9o9KmxITt"
   },
   "source": [
    "Build an SQL agent using from the [langchain SQL toolkit](https://python.langchain.com/v0.2/docs/integrations/tools/sql_database/) with the just created in-memory database."
   ]
  },
  {
   "cell_type": "code",
   "execution_count": 8,
   "metadata": {
    "id": "gvEjbY2LxI25"
   },
   "outputs": [],
   "source": [
    "# 1. Set up and customize an LLM\n",
    "llm = ChatOpenAI(model=\"gpt-4o-mini\", temperature=0, api_key=llm_api_key)\n",
    "# 2. Wrap the previously created (SQLAlchemy) DB\n",
    "db = SQLDatabase(engine=engine)\n",
    "# 3. Create an SQL agent with new llm model and DB\n",
    "agent_executor = create_sql_agent(llm, db=db, agent_type=\"tool-calling\")"
   ]
  },
  {
   "cell_type": "markdown",
   "metadata": {
    "id": "O94iTyxwOCrg"
   },
   "source": [
    "Now we can start to issue queries, enriching them with data from Nyx.\n",
    "\n",
    "🧠 **Any subscribed-to data will be considered to help answer a query** 🧠"
   ]
  },
  {
   "cell_type": "code",
   "execution_count": 9,
   "metadata": {
    "colab": {
     "base_uri": "https://localhost:8080/"
    },
    "id": "fl3tnBY3OCQH",
    "outputId": "7432544a-ee7e-4ab7-d0aa-326615f6b677"
   },
   "outputs": [
    {
     "name": "stdout",
     "output_type": "stream",
     "text": [
      "I don't know.\n"
     ]
    }
   ],
   "source": [
    "prompt = \"What is the land speed record for a car?\"\n",
    "res = agent_executor.invoke({\"input\": Utils.with_sources(prompt)})\n",
    "print(res[\"output\"])"
   ]
  }
 ],
 "metadata": {
  "colab": {
   "provenance": [],
   "toc_visible": true
  },
  "kernelspec": {
   "display_name": "Python 3 (ipykernel)",
   "language": "python",
   "name": "python3"
  },
  "language_info": {
   "codemirror_mode": {
    "name": "ipython",
    "version": 3
   },
   "file_extension": ".py",
   "mimetype": "text/x-python",
   "name": "python",
   "nbconvert_exporter": "python",
   "pygments_lexer": "ipython3",
   "version": "3.10.15"
  }
 },
 "nbformat": 4,
 "nbformat_minor": 4
}
